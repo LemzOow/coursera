{
 "cells": [
  {
   "cell_type": "markdown",
   "id": "e995efc6-b3d2-43f1-bd50-29eea37e83ef",
   "metadata": {},
   "source": [
    "# Outils et écosystème de la science des données"
   ]
  },
  {
   "cell_type": "markdown",
   "id": "879b894b-c2db-4817-b4a3-49f260b0c908",
   "metadata": {},
   "source": [
    "Dans ce notebook, les outils et l'écosystème de la science des données sont résumés."
   ]
  },
  {
   "cell_type": "code",
   "execution_count": null,
   "id": "dbe56361-5bb6-4165-a2e0-85e4723e22e5",
   "metadata": {},
   "outputs": [],
   "source": []
  },
  {
   "cell_type": "markdown",
   "id": "27776aa5-cda6-48d4-a3fd-9464d165ae47",
   "metadata": {},
   "source": [
    "**Objectifs :**"
   ]
  },
  {
   "cell_type": "markdown",
   "id": "50761fcb-3f05-4af5-8ba1-eef9e3dd2ee1",
   "metadata": {},
   "source": [
    "* Lister les langages populaires pour la science des données\n",
    "\n",
    "* Lister les bibliothèques couramment utilisées par les scientifiques des données\n",
    "\n",
    "* Lister les outils de la science des données\n",
    "\n",
    "* Effectuer des operations mathematiques"
   ]
  },
  {
   "cell_type": "code",
   "execution_count": null,
   "id": "7dde2f0d-27fe-4d1c-8b54-b44f267cb46a",
   "metadata": {},
   "outputs": [],
   "source": []
  },
  {
   "cell_type": "markdown",
   "id": "21ad8567-8e71-463c-9c1f-a502622422ab",
   "metadata": {},
   "source": [
    "Certains des langages populaires que les scientifiques des données utilisent sont :"
   ]
  },
  {
   "cell_type": "markdown",
   "id": "be602383-b0f1-42a3-b999-60f3bbfd425f",
   "metadata": {},
   "source": [
    "1. Python\n",
    "2. R\n",
    "3. SQL\n",
    "4. Scala\n",
    "5. Julia"
   ]
  },
  {
   "cell_type": "markdown",
   "id": "95bb14b8-a48e-45b8-a40f-5d60a673fc26",
   "metadata": {},
   "source": [
    "Certaines des bibliothèques couramment utilisées par les scientifiques des données incluent :"
   ]
  },
  {
   "cell_type": "markdown",
   "id": "3d7a8a2e-1464-48d4-9c1c-4571482e2100",
   "metadata": {},
   "source": [
    "1. Numpy\n",
    "2. Pandas\n",
    "3. Apache Spark\n",
    "4. Caret"
   ]
  },
  {
   "cell_type": "code",
   "execution_count": null,
   "id": "4ca511c1-d582-4941-a376-62861e505dab",
   "metadata": {},
   "outputs": [],
   "source": []
  },
  {
   "cell_type": "markdown",
   "id": "a035637b-a778-449b-801e-cbf1958dec57",
   "metadata": {},
   "source": [
    "|Outils de la science des données|\n",
    "|--------------------------------|\n",
    "|Jupiter Notebook|\n",
    "|RStudio|\n",
    "|Pycharm|"
   ]
  },
  {
   "cell_type": "code",
   "execution_count": null,
   "id": "422df75c-d552-4a14-af9d-3878600c874f",
   "metadata": {},
   "outputs": [],
   "source": []
  },
  {
   "cell_type": "markdown",
   "id": "a4a8ce0c-9055-4509-8f18-244f19b45dd3",
   "metadata": {},
   "source": [
    "### Voici quelques exemples d'évaluation d'expressions arithmétiques en Python"
   ]
  },
  {
   "cell_type": "markdown",
   "id": "b48599cb-dd6f-4b46-96d9-490b1988e5ff",
   "metadata": {},
   "source": [
    "Ceci est une simple expression arithmétique pour multiplier puis additionner des entiers"
   ]
  },
  {
   "cell_type": "code",
   "execution_count": 7,
   "id": "71159a8e-98de-4758-9782-52d464964614",
   "metadata": {},
   "outputs": [
    {
     "data": {
      "text/plain": [
       "17"
      ]
     },
     "execution_count": 7,
     "metadata": {},
     "output_type": "execute_result"
    }
   ],
   "source": [
    "(3*4)+5 "
   ]
  },
  {
   "cell_type": "code",
   "execution_count": null,
   "id": "b4f030cc-0db2-4ad9-a731-cfba0cc94d06",
   "metadata": {},
   "outputs": [],
   "source": []
  },
  {
   "cell_type": "markdown",
   "id": "ecd88de6-5910-4e67-8d77-46148a02b666",
   "metadata": {},
   "source": [
    "Cela convertira 200 minutes en heures en divisant par 60"
   ]
  },
  {
   "cell_type": "code",
   "execution_count": 8,
   "id": "363eef09-4c7b-40ce-b4b9-d5c44f1a225c",
   "metadata": {},
   "outputs": [
    {
     "data": {
      "text/plain": [
       "3.3333333333333335"
      ]
     },
     "execution_count": 8,
     "metadata": {},
     "output_type": "execute_result"
    }
   ],
   "source": [
    "200/60"
   ]
  },
  {
   "cell_type": "code",
   "execution_count": null,
   "id": "ecd94c86-226e-4b47-a1a4-5ecbc10affcc",
   "metadata": {},
   "outputs": [],
   "source": []
  },
  {
   "cell_type": "markdown",
   "id": "ffae50de-1c06-4371-9cc5-52eb347bd178",
   "metadata": {},
   "source": [
    "## Auteur: Mouhamadou Lamine SOW"
   ]
  }
 ],
 "metadata": {
  "kernelspec": {
   "display_name": "Python 3 (ipykernel)",
   "language": "python",
   "name": "python3"
  },
  "language_info": {
   "codemirror_mode": {
    "name": "ipython",
    "version": 3
   },
   "file_extension": ".py",
   "mimetype": "text/x-python",
   "name": "python",
   "nbconvert_exporter": "python",
   "pygments_lexer": "ipython3",
   "version": "3.12.7"
  }
 },
 "nbformat": 4,
 "nbformat_minor": 5
}
